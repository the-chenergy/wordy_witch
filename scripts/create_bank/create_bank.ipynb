{
 "cells": [
  {
   "cell_type": "code",
   "execution_count": 2,
   "metadata": {},
   "outputs": [],
   "source": [
    "import json\n",
    "import os\n",
    "import pathlib\n",
    "import string\n",
    "import typing\n"
   ]
  },
  {
   "cell_type": "code",
   "execution_count": 3,
   "metadata": {},
   "outputs": [
    {
     "name": "stdout",
     "output_type": "stream",
     "text": [
      "len(uncommon_guesses)=7193 len(common_guesses)=3409 len(targets)=2394\n"
     ]
    }
   ],
   "source": [
    "def create_bank_from_sources() -> None:\n",
    "    TARGET_SIZE = 5\n",
    "\n",
    "    def filter_words(words: typing.Iterable[str]) -> typing.Iterable[str]:\n",
    "        for word in words:\n",
    "            if len(word) != TARGET_SIZE:\n",
    "                continue\n",
    "            if any(c not in string.ascii_lowercase for c in word):\n",
    "                continue\n",
    "            yield word\n",
    "\n",
    "    def load_words_from_json(path: str) -> typing.Iterable[str]:\n",
    "        return filter_words(json.load(open(path, 'r')))\n",
    "\n",
    "    def load_words_from_txt(path: str) -> typing.Iterable[str]:\n",
    "        lines = open(path, 'r').readlines()\n",
    "        return filter_words(map(str.strip, lines))\n",
    "\n",
    "    co_wordle_words = set(\n",
    "        load_words_from_json('./bank_source/co_wordle_5_letter_guesses.json'))\n",
    "    co_wordle_raw_targets = set(\n",
    "        load_words_from_json('./bank_source/dordle_wordle_targets.json'))\n",
    "    co_wordle_targets = co_wordle_raw_targets & co_wordle_words\n",
    "    wordle_unlimited_targets = set(\n",
    "        load_words_from_json('./bank_source/wordle_unlimited_targets.json'))\n",
    "    wordle_unlimited_words = wordle_unlimited_targets | set(\n",
    "        load_words_from_json('./bank_source/wordle_unlimited_guesses.json'))\n",
    "    words = co_wordle_words | wordle_unlimited_words\n",
    "    targets = co_wordle_targets | wordle_unlimited_targets\n",
    "    guesses = words - targets\n",
    "\n",
    "    common_words = set(\n",
    "        list(load_words_from_txt('./bank_source/cspell_en_gb_dict.txt')) +\n",
    "        list(load_words_from_txt('./bank_source/cspell_en_us_dict.txt')))\n",
    "    common_guesses = guesses & common_words\n",
    "    uncommon_guesses = guesses - common_guesses\n",
    "\n",
    "    BANK_PATH = pathlib.Path('../../bank/co_wordle_unlimited')\n",
    "    os.makedirs(BANK_PATH, exist_ok=True)\n",
    "\n",
    "    def dump_words_to_txt(\n",
    "        words: typing.Iterable[str],\n",
    "        path: pathlib.Path,\n",
    "    ) -> None:\n",
    "        lines = sorted(w + '\\n' for w in words)\n",
    "        open(path, 'w').writelines(lines)\n",
    "\n",
    "    dump_words_to_txt(uncommon_guesses, BANK_PATH / 'uncommon_guesses.txt')\n",
    "    dump_words_to_txt(common_guesses, BANK_PATH / 'common_guesses.txt')\n",
    "    dump_words_to_txt(targets, BANK_PATH / 'targets.txt')\n",
    "\n",
    "    print(f'{len(uncommon_guesses)=} {len(common_guesses)=} {len(targets)=}')\n",
    "\n",
    "\n",
    "create_bank_from_sources()\n"
   ]
  }
 ],
 "metadata": {
  "kernelspec": {
   "display_name": "wordy-witch",
   "language": "python",
   "name": "python3"
  },
  "language_info": {
   "codemirror_mode": {
    "name": "ipython",
    "version": 3
   },
   "file_extension": ".py",
   "mimetype": "text/x-python",
   "name": "python",
   "nbconvert_exporter": "python",
   "pygments_lexer": "ipython3",
   "version": "3.11.5"
  },
  "orig_nbformat": 4
 },
 "nbformat": 4,
 "nbformat_minor": 2
}
