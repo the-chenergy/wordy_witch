{
 "cells": [
  {
   "cell_type": "code",
   "execution_count": 2,
   "metadata": {},
   "outputs": [],
   "source": [
    "import json\n",
    "import string\n",
    "import typing\n"
   ]
  },
  {
   "cell_type": "code",
   "execution_count": 3,
   "metadata": {},
   "outputs": [
    {
     "name": "stdout",
     "output_type": "stream",
     "text": [
      "len(guesses)=12672 len(common_guesses)=5677 len(targets)=2391\n"
     ]
    }
   ],
   "source": [
    "def create_bank_from_sources() -> None:\n",
    "    TARGET_SIZE = 5\n",
    "\n",
    "    def filter_words(words: typing.Iterable[str]) -> typing.Iterable[str]:\n",
    "        for word in words:\n",
    "            if len(word) != TARGET_SIZE:\n",
    "                continue\n",
    "            if any(c not in string.ascii_lowercase for c in word):\n",
    "                continue\n",
    "            yield word\n",
    "\n",
    "    def load_words_from_json(path: str) -> typing.Iterable[str]:\n",
    "        return filter_words(json.load(open(path, 'r')))\n",
    "\n",
    "    def load_words_from_txt(path: str) -> typing.Iterable[str]:\n",
    "        lines = open(path, 'r').readlines()\n",
    "        return filter_words(map(str.strip, lines))\n",
    "\n",
    "    guesses = set(\n",
    "        load_words_from_json('./bank_source/co_wordle_5_letter_guesses.json'))\n",
    "    raw_targets = set(\n",
    "        load_words_from_json('./bank_source/dordle_wordle_targets.json'))\n",
    "    targets = raw_targets & guesses\n",
    "\n",
    "    common_words = set(\n",
    "        list(load_words_from_txt('./bank_source/cspell_en_gb_dict.txt')) +\n",
    "        list(load_words_from_txt('./bank_source/cspell_en_us_dict.txt')))\n",
    "    common_guesses = guesses & common_words\n",
    "\n",
    "    def dump_words_to_txt(words: typing.Iterable[str], path: str) -> None:\n",
    "        lines = sorted(w + '\\n' for w in words)\n",
    "        open(path, 'w').writelines(lines)\n",
    "\n",
    "    dump_words_to_txt(guesses, './out_guesses.txt')\n",
    "    dump_words_to_txt(common_guesses, './out_common_guesses.txt')\n",
    "    dump_words_to_txt(targets, './out_targets.txt')\n",
    "\n",
    "    print(f'{len(guesses)=} {len(common_guesses)=} {len(targets)=}')\n",
    "\n",
    "\n",
    "create_bank_from_sources()\n"
   ]
  }
 ],
 "metadata": {
  "kernelspec": {
   "display_name": "wordy-witch",
   "language": "python",
   "name": "python3"
  },
  "language_info": {
   "codemirror_mode": {
    "name": "ipython",
    "version": 3
   },
   "file_extension": ".py",
   "mimetype": "text/x-python",
   "name": "python",
   "nbconvert_exporter": "python",
   "pygments_lexer": "ipython3",
   "version": "3.11.5"
  },
  "orig_nbformat": 4
 },
 "nbformat": 4,
 "nbformat_minor": 2
}
